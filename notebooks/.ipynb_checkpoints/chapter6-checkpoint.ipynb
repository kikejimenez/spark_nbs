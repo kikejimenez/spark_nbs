{
 "cells": [
  {
   "cell_type": "markdown",
   "metadata": {},
   "source": [
    "# [Learning Spark Second Edition](https://github.com/databricks/LearningSparkV2)\n"
   ]
  },
  {
   "cell_type": "markdown",
   "metadata": {},
   "source": [
    " _almond_ "
   ]
  },
  {
   "cell_type": "markdown",
   "metadata": {},
   "source": [
    "This notebook contains the examples of [Chapter 6 of the book Learn Spark](https://learning.oreilly.com/library/view/learning-spark-2nd/9781492050032/ch06.html). "
   ]
  },
  {
   "cell_type": "code",
   "execution_count": 12,
   "metadata": {},
   "outputs": [
    {
     "data": {
      "text/plain": [
       "\u001b[32mimport \u001b[39m\u001b[36m$ivy.$                                   // Or use any other 2.x version here\n",
       "\u001b[39m\n",
       "\u001b[32mimport \u001b[39m\u001b[36morg.apache.spark.sql._\u001b[39m"
      ]
     },
     "execution_count": 12,
     "metadata": {},
     "output_type": "execute_result"
    }
   ],
   "source": [
    "import $ivy.`org.apache.spark::spark-sql:3.0.0` // Or use any other 2.x version here\n",
    "import org.apache.spark.sql._"
   ]
  },
  {
   "cell_type": "code",
   "execution_count": 13,
   "metadata": {},
   "outputs": [
    {
     "data": {
      "text/plain": [
       "\u001b[32mimport \u001b[39m\u001b[36morg.apache.log4j.{Level, Logger}\n",
       "\u001b[39m"
      ]
     },
     "execution_count": 13,
     "metadata": {},
     "output_type": "execute_result"
    }
   ],
   "source": [
    "import org.apache.log4j.{Level, Logger}\n",
    "Logger.getLogger(\"org\").setLevel(Level.OFF)"
   ]
  },
  {
   "cell_type": "code",
   "execution_count": 14,
   "metadata": {},
   "outputs": [
    {
     "data": {
      "text/plain": [
       "\u001b[32mimport \u001b[39m\u001b[36morg.apache.spark.sql.functions.avg\n",
       "\u001b[39m\n",
       "\u001b[32mimport \u001b[39m\u001b[36morg.apache.spark.sql.SparkSession\n",
       "\n",
       "\n",
       "// Create a DataFrame using SparkSession\n",
       "\u001b[39m\n",
       "\u001b[36mspark\u001b[39m: \u001b[32mSparkSession\u001b[39m = org.apache.spark.sql.SparkSession@4ef4f545\n",
       "\u001b[32mimport \u001b[39m\u001b[36mspark.implicits._\u001b[39m"
      ]
     },
     "execution_count": 14,
     "metadata": {},
     "output_type": "execute_result"
    }
   ],
   "source": [
    "import org.apache.spark.sql.functions.avg\n",
    "import org.apache.spark.sql.SparkSession\n",
    "\n",
    "\n",
    "// Create a DataFrame using SparkSession\n",
    "val spark = SparkSession\n",
    "  .builder\n",
    "  .master(\"local[*]\")\n",
    "  .appName(\"AuthorsAges\")\n",
    "  .getOrCreate()\n",
    "\n",
    "import spark.implicits._"
   ]
  },
  {
   "cell_type": "markdown",
   "metadata": {},
   "source": [
    "### [Chapter 6](https://learning.oreilly.com/library/view/learning-spark-2nd/9781492050032/ch06.html)\n",
    "> Scala Case Classes for Datasets"
   ]
  },
  {
   "cell_type": "code",
   "execution_count": 15,
   "metadata": {},
   "outputs": [
    {
     "data": {
      "text/plain": [
       "defined \u001b[32mclass\u001b[39m \u001b[36mBloggers\u001b[39m"
      ]
     },
     "execution_count": 15,
     "metadata": {},
     "output_type": "execute_result"
    }
   ],
   "source": [
    "//Scala\n",
    "case class Bloggers(Id:String, First:String, Last:String, Url:String,Hits: String, Campaigns:Array[String])"
   ]
  },
  {
   "cell_type": "code",
   "execution_count": 16,
   "metadata": {},
   "outputs": [
    {
     "name": "stdout",
     "output_type": "stream",
     "text": [
      "+--------------------+------+----+---+-----+---------+-----------------+\n",
      "|           Campaigns| First|Hits| Id| Last|Published|              Url|\n",
      "+--------------------+------+----+---+-----+---------+-----------------+\n",
      "| [twitter, LinkedIn]| Jules|4535|  1|Damji| 1/4/2016|https://tinyurl.1|\n",
      "| [twitter, LinkedIn]|Brooke|8908|  2|Wenig| 5/5/2018|https://tinyurl.2|\n",
      "|[web, twitter, FB...| Denny|7659|  3|  Lee| 6/7/2019|https://tinyurl.3|\n",
      "+--------------------+------+----+---+-----+---------+-----------------+\n",
      "only showing top 3 rows\n",
      "\n"
     ]
    },
    {
     "data": {
      "text/plain": [
       "\u001b[36mbloggers\u001b[39m: \u001b[32mString\u001b[39m = \u001b[32m\"../databricks-datasets/learning-spark-v2/blogs.json\"\u001b[39m\n",
       "\u001b[36mbloggersDS\u001b[39m: \u001b[32mDataset\u001b[39m[\u001b[32mBloggers\u001b[39m] = [Campaigns: array<string>, First: string ... 5 more fields]"
      ]
     },
     "execution_count": 16,
     "metadata": {},
     "output_type": "execute_result"
    }
   ],
   "source": [
    "val bloggers = \"../databricks-datasets/learning-spark-v2/blogs.json\"\n",
    "val bloggersDS = spark\n",
    "  .read\n",
    "  .option(\"multiline\",\"true\")\n",
    "  .format(\"json\")\n",
    "  .option(\"path\", bloggers)\n",
    "  .load()\n",
    "  .as[Bloggers]\n",
    "\n",
    "bloggersDS.show(3)"
   ]
  },
  {
   "cell_type": "markdown",
   "metadata": {},
   "source": [
    "### [Chapter 6](https://learning.oreilly.com/library/view/learning-spark-2nd/9781492050032/ch06.html)\n",
    "> Creating Sample Data"
   ]
  },
  {
   "cell_type": "code",
   "execution_count": 19,
   "metadata": {},
   "outputs": [
    {
     "data": {
      "text/plain": [
       "\u001b[32mimport \u001b[39m\u001b[36mscala.util.Random._\n",
       "\n",
       "// Our case class for the Dataset\n",
       "\u001b[39m\n",
       "defined \u001b[32mclass\u001b[39m \u001b[36mUsage\u001b[39m\n",
       "\u001b[36mr\u001b[39m: \u001b[32mscala\u001b[39m.\u001b[32mutil\u001b[39m.\u001b[32mRandom\u001b[39m = scala.util.Random@65aa839a\n",
       "\u001b[36mdata\u001b[39m: \u001b[32mcollection\u001b[39m.\u001b[32mimmutable\u001b[39m.\u001b[32mIndexedSeq\u001b[39m[\u001b[32mUsage\u001b[39m] = \u001b[33mVector\u001b[39m(\n",
       "  \u001b[33mUsage\u001b[39m(\u001b[32m0\u001b[39m, \u001b[32m\"user-Gpi2C\"\u001b[39m, \u001b[32m525\u001b[39m),\n",
       "  \u001b[33mUsage\u001b[39m(\u001b[32m1\u001b[39m, \u001b[32m\"user-DgXDi\"\u001b[39m, \u001b[32m502\u001b[39m),\n",
       "  \u001b[33mUsage\u001b[39m(\u001b[32m2\u001b[39m, \u001b[32m\"user-M66yO\"\u001b[39m, \u001b[32m170\u001b[39m),\n",
       "  \u001b[33mUsage\u001b[39m(\u001b[32m3\u001b[39m, \u001b[32m\"user-xTOn6\"\u001b[39m, \u001b[32m913\u001b[39m),\n",
       "  \u001b[33mUsage\u001b[39m(\u001b[32m4\u001b[39m, \u001b[32m\"user-3xGSz\"\u001b[39m, \u001b[32m246\u001b[39m),\n",
       "  \u001b[33mUsage\u001b[39m(\u001b[32m5\u001b[39m, \u001b[32m\"user-2aWRN\"\u001b[39m, \u001b[32m727\u001b[39m),\n",
       "  \u001b[33mUsage\u001b[39m(\u001b[32m6\u001b[39m, \u001b[32m\"user-EzZY1\"\u001b[39m, \u001b[32m65\u001b[39m),\n",
       "  \u001b[33mUsage\u001b[39m(\u001b[32m7\u001b[39m, \u001b[32m\"user-ZlZMZ\"\u001b[39m, \u001b[32m935\u001b[39m),\n",
       "  \u001b[33mUsage\u001b[39m(\u001b[32m8\u001b[39m, \u001b[32m\"user-VjxeG\"\u001b[39m, \u001b[32m756\u001b[39m),\n",
       "  \u001b[33mUsage\u001b[39m(\u001b[32m9\u001b[39m, \u001b[32m\"user-iqf1P\"\u001b[39m, \u001b[32m3\u001b[39m),\n",
       "  \u001b[33mUsage\u001b[39m(\u001b[32m10\u001b[39m, \u001b[32m\"user-91S1q\"\u001b[39m, \u001b[32m794\u001b[39m),\n",
       "  \u001b[33mUsage\u001b[39m(\u001b[32m11\u001b[39m, \u001b[32m\"user-qHNj0\"\u001b[39m, \u001b[32m501\u001b[39m),\n",
       "  \u001b[33mUsage\u001b[39m(\u001b[32m12\u001b[39m, \u001b[32m\"user-7hb94\"\u001b[39m, \u001b[32m460\u001b[39m),\n",
       "  \u001b[33mUsage\u001b[39m(\u001b[32m13\u001b[39m, \u001b[32m\"user-bz0WF\"\u001b[39m, \u001b[32m142\u001b[39m),\n",
       "  \u001b[33mUsage\u001b[39m(\u001b[32m14\u001b[39m, \u001b[32m\"user-71nwy\"\u001b[39m, \u001b[32m479\u001b[39m),\n",
       "  \u001b[33mUsage\u001b[39m(\u001b[32m15\u001b[39m, \u001b[32m\"user-7GZz1\"\u001b[39m, \u001b[32m823\u001b[39m),\n",
       "  \u001b[33mUsage\u001b[39m(\u001b[32m16\u001b[39m, \u001b[32m\"user-1CSk6\"\u001b[39m, \u001b[32m140\u001b[39m),\n",
       "  \u001b[33mUsage\u001b[39m(\u001b[32m17\u001b[39m, \u001b[32m\"user-WPzlL\"\u001b[39m, \u001b[32m246\u001b[39m),\n",
       "  \u001b[33mUsage\u001b[39m(\u001b[32m18\u001b[39m, \u001b[32m\"user-VaEit\"\u001b[39m, \u001b[32m451\u001b[39m),\n",
       "  \u001b[33mUsage\u001b[39m(\u001b[32m19\u001b[39m, \u001b[32m\"user-PSaRq\"\u001b[39m, \u001b[32m679\u001b[39m),\n",
       "  \u001b[33mUsage\u001b[39m(\u001b[32m20\u001b[39m, \u001b[32m\"user-0Kkzu\"\u001b[39m, \u001b[32m332\u001b[39m),\n",
       "  \u001b[33mUsage\u001b[39m(\u001b[32m21\u001b[39m, \u001b[32m\"user-UN3MG\"\u001b[39m, \u001b[32m172\u001b[39m),\n",
       "  \u001b[33mUsage\u001b[39m(\u001b[32m22\u001b[39m, \u001b[32m\"user-KwwER\"\u001b[39m, \u001b[32m442\u001b[39m),\n",
       "  \u001b[33mUsage\u001b[39m(\u001b[32m23\u001b[39m, \u001b[32m\"user-ZnltJ\"\u001b[39m, \u001b[32m923\u001b[39m),\n",
       "  \u001b[33mUsage\u001b[39m(\u001b[32m24\u001b[39m, \u001b[32m\"user-IRA17\"\u001b[39m, \u001b[32m741\u001b[39m),\n",
       "  \u001b[33mUsage\u001b[39m(\u001b[32m25\u001b[39m, \u001b[32m\"user-yNHRT\"\u001b[39m, \u001b[32m299\u001b[39m),\n",
       "  \u001b[33mUsage\u001b[39m(\u001b[32m26\u001b[39m, \u001b[32m\"user-CJY3C\"\u001b[39m, \u001b[32m996\u001b[39m),\n",
       "  \u001b[33mUsage\u001b[39m(\u001b[32m27\u001b[39m, \u001b[32m\"user-Yq9WW\"\u001b[39m, \u001b[32m529\u001b[39m),\n",
       "  \u001b[33mUsage\u001b[39m(\u001b[32m28\u001b[39m, \u001b[32m\"user-RFWw1\"\u001b[39m, \u001b[32m308\u001b[39m),\n",
       "  \u001b[33mUsage\u001b[39m(\u001b[32m29\u001b[39m, \u001b[32m\"user-GB82J\"\u001b[39m, \u001b[32m342\u001b[39m),\n",
       "  \u001b[33mUsage\u001b[39m(\u001b[32m30\u001b[39m, \u001b[32m\"user-aRIBa\"\u001b[39m, \u001b[32m785\u001b[39m),\n",
       "  \u001b[33mUsage\u001b[39m(\u001b[32m31\u001b[39m, \u001b[32m\"user-kVMP0\"\u001b[39m, \u001b[32m293\u001b[39m),\n",
       "  \u001b[33mUsage\u001b[39m(\u001b[32m32\u001b[39m, \u001b[32m\"user-yOUH1\"\u001b[39m, \u001b[32m943\u001b[39m),\n",
       "  \u001b[33mUsage\u001b[39m(\u001b[32m33\u001b[39m, \u001b[32m\"user-Ti9C0\"\u001b[39m, \u001b[32m188\u001b[39m),\n",
       "  \u001b[33mUsage\u001b[39m(\u001b[32m34\u001b[39m, \u001b[32m\"user-tte7Q\"\u001b[39m, \u001b[32m780\u001b[39m),\n",
       "  \u001b[33mUsage\u001b[39m(\u001b[32m35\u001b[39m, \u001b[32m\"user-mLG6c\"\u001b[39m, \u001b[32m305\u001b[39m),\n",
       "  \u001b[33mUsage\u001b[39m(\u001b[32m36\u001b[39m, \u001b[32m\"user-1JPlV\"\u001b[39m, \u001b[32m181\u001b[39m),\n",
       "  \u001b[33mUsage\u001b[39m(\u001b[32m37\u001b[39m, \u001b[32m\"user-5PXjy\"\u001b[39m, \u001b[32m493\u001b[39m),\n",
       "..."
      ]
     },
     "execution_count": 19,
     "metadata": {},
     "output_type": "execute_result"
    }
   ],
   "source": [
    "//Scala\n",
    "import scala.util.Random._\n",
    "\n",
    "// Our case class for the Dataset\n",
    "case class Usage(uid:Int, uname:String, usage: Int)\n",
    "\n",
    "val r = new scala.util.Random(42)\n",
    "\n",
    "// Create 1000 instances of scala Usage class \n",
    "// This generates data on the fly\n",
    "val data = for (i <- 0 to 1000) \n",
    "  yield (Usage(i, \"user-\" + r.alphanumeric.take(5).mkString(\"\"),\n",
    "  r.nextInt(1000)))"
   ]
  },
  {
   "cell_type": "code",
   "execution_count": 20,
   "metadata": {},
   "outputs": [
    {
     "name": "stdout",
     "output_type": "stream",
     "text": [
      "+---+----------+-----+\n",
      "|uid|     uname|usage|\n",
      "+---+----------+-----+\n",
      "|  0|user-Gpi2C|  525|\n",
      "|  1|user-DgXDi|  502|\n",
      "|  2|user-M66yO|  170|\n",
      "|  3|user-xTOn6|  913|\n",
      "|  4|user-3xGSz|  246|\n",
      "|  5|user-2aWRN|  727|\n",
      "|  6|user-EzZY1|   65|\n",
      "|  7|user-ZlZMZ|  935|\n",
      "|  8|user-VjxeG|  756|\n",
      "|  9|user-iqf1P|    3|\n",
      "+---+----------+-----+\n",
      "only showing top 10 rows\n",
      "\n"
     ]
    },
    {
     "data": {
      "text/plain": [
       "\u001b[36mdsUsage\u001b[39m: \u001b[32mDataset\u001b[39m[\u001b[32mUsage\u001b[39m] = [uid: int, uname: string ... 1 more field]"
      ]
     },
     "execution_count": 20,
     "metadata": {},
     "output_type": "execute_result"
    }
   ],
   "source": [
    "// Create a Dataset of Usage typed data\n",
    "val dsUsage = spark.createDataset(data)\n",
    "dsUsage.show(10)"
   ]
  },
  {
   "cell_type": "markdown",
   "metadata": {},
   "source": [
    "### [Chapter 6](https://learning.oreilly.com/library/view/learning-spark-2nd/9781492050032/ch06.html)\n",
    "> Transforming Sample Data"
   ]
  },
  {
   "cell_type": "code",
   "execution_count": 21,
   "metadata": {},
   "outputs": [
    {
     "data": {
      "text/plain": [
       "\u001b[32mimport \u001b[39m\u001b[36mscala.util.Random._\n",
       "\u001b[39m\n",
       "\u001b[32mimport \u001b[39m\u001b[36morg.apache.spark.sql.functions._\n",
       "\n",
       "// Our case class for the Dataset\n",
       "\u001b[39m\n",
       "defined \u001b[32mclass\u001b[39m \u001b[36mUsage\u001b[39m\n",
       "\u001b[36mr\u001b[39m: \u001b[32mscala\u001b[39m.\u001b[32mutil\u001b[39m.\u001b[32mRandom\u001b[39m = scala.util.Random@1dc77ea7\n",
       "\u001b[36mdata\u001b[39m: \u001b[32mcollection\u001b[39m.\u001b[32mimmutable\u001b[39m.\u001b[32mIndexedSeq\u001b[39m[\u001b[32mUsage\u001b[39m] = \u001b[33mVector\u001b[39m(\n",
       "  \u001b[33mUsage\u001b[39m(\u001b[32m0\u001b[39m, \u001b[32m\"user-Gpi2C\"\u001b[39m, \u001b[32m525\u001b[39m),\n",
       "  \u001b[33mUsage\u001b[39m(\u001b[32m1\u001b[39m, \u001b[32m\"user-DgXDi\"\u001b[39m, \u001b[32m502\u001b[39m),\n",
       "  \u001b[33mUsage\u001b[39m(\u001b[32m2\u001b[39m, \u001b[32m\"user-M66yO\"\u001b[39m, \u001b[32m170\u001b[39m),\n",
       "  \u001b[33mUsage\u001b[39m(\u001b[32m3\u001b[39m, \u001b[32m\"user-xTOn6\"\u001b[39m, \u001b[32m913\u001b[39m),\n",
       "  \u001b[33mUsage\u001b[39m(\u001b[32m4\u001b[39m, \u001b[32m\"user-3xGSz\"\u001b[39m, \u001b[32m246\u001b[39m),\n",
       "  \u001b[33mUsage\u001b[39m(\u001b[32m5\u001b[39m, \u001b[32m\"user-2aWRN\"\u001b[39m, \u001b[32m727\u001b[39m),\n",
       "  \u001b[33mUsage\u001b[39m(\u001b[32m6\u001b[39m, \u001b[32m\"user-EzZY1\"\u001b[39m, \u001b[32m65\u001b[39m),\n",
       "  \u001b[33mUsage\u001b[39m(\u001b[32m7\u001b[39m, \u001b[32m\"user-ZlZMZ\"\u001b[39m, \u001b[32m935\u001b[39m),\n",
       "  \u001b[33mUsage\u001b[39m(\u001b[32m8\u001b[39m, \u001b[32m\"user-VjxeG\"\u001b[39m, \u001b[32m756\u001b[39m),\n",
       "  \u001b[33mUsage\u001b[39m(\u001b[32m9\u001b[39m, \u001b[32m\"user-iqf1P\"\u001b[39m, \u001b[32m3\u001b[39m),\n",
       "  \u001b[33mUsage\u001b[39m(\u001b[32m10\u001b[39m, \u001b[32m\"user-91S1q\"\u001b[39m, \u001b[32m794\u001b[39m),\n",
       "  \u001b[33mUsage\u001b[39m(\u001b[32m11\u001b[39m, \u001b[32m\"user-qHNj0\"\u001b[39m, \u001b[32m501\u001b[39m),\n",
       "  \u001b[33mUsage\u001b[39m(\u001b[32m12\u001b[39m, \u001b[32m\"user-7hb94\"\u001b[39m, \u001b[32m460\u001b[39m),\n",
       "  \u001b[33mUsage\u001b[39m(\u001b[32m13\u001b[39m, \u001b[32m\"user-bz0WF\"\u001b[39m, \u001b[32m142\u001b[39m),\n",
       "  \u001b[33mUsage\u001b[39m(\u001b[32m14\u001b[39m, \u001b[32m\"user-71nwy\"\u001b[39m, \u001b[32m479\u001b[39m),\n",
       "  \u001b[33mUsage\u001b[39m(\u001b[32m15\u001b[39m, \u001b[32m\"user-7GZz1\"\u001b[39m, \u001b[32m823\u001b[39m),\n",
       "  \u001b[33mUsage\u001b[39m(\u001b[32m16\u001b[39m, \u001b[32m\"user-1CSk6\"\u001b[39m, \u001b[32m140\u001b[39m),\n",
       "  \u001b[33mUsage\u001b[39m(\u001b[32m17\u001b[39m, \u001b[32m\"user-WPzlL\"\u001b[39m, \u001b[32m246\u001b[39m),\n",
       "  \u001b[33mUsage\u001b[39m(\u001b[32m18\u001b[39m, \u001b[32m\"user-VaEit\"\u001b[39m, \u001b[32m451\u001b[39m),\n",
       "  \u001b[33mUsage\u001b[39m(\u001b[32m19\u001b[39m, \u001b[32m\"user-PSaRq\"\u001b[39m, \u001b[32m679\u001b[39m),\n",
       "  \u001b[33mUsage\u001b[39m(\u001b[32m20\u001b[39m, \u001b[32m\"user-0Kkzu\"\u001b[39m, \u001b[32m332\u001b[39m),\n",
       "  \u001b[33mUsage\u001b[39m(\u001b[32m21\u001b[39m, \u001b[32m\"user-UN3MG\"\u001b[39m, \u001b[32m172\u001b[39m),\n",
       "  \u001b[33mUsage\u001b[39m(\u001b[32m22\u001b[39m, \u001b[32m\"user-KwwER\"\u001b[39m, \u001b[32m442\u001b[39m),\n",
       "  \u001b[33mUsage\u001b[39m(\u001b[32m23\u001b[39m, \u001b[32m\"user-ZnltJ\"\u001b[39m, \u001b[32m923\u001b[39m),\n",
       "  \u001b[33mUsage\u001b[39m(\u001b[32m24\u001b[39m, \u001b[32m\"user-IRA17\"\u001b[39m, \u001b[32m741\u001b[39m),\n",
       "  \u001b[33mUsage\u001b[39m(\u001b[32m25\u001b[39m, \u001b[32m\"user-yNHRT\"\u001b[39m, \u001b[32m299\u001b[39m),\n",
       "  \u001b[33mUsage\u001b[39m(\u001b[32m26\u001b[39m, \u001b[32m\"user-CJY3C\"\u001b[39m, \u001b[32m996\u001b[39m),\n",
       "  \u001b[33mUsage\u001b[39m(\u001b[32m27\u001b[39m, \u001b[32m\"user-Yq9WW\"\u001b[39m, \u001b[32m529\u001b[39m),\n",
       "  \u001b[33mUsage\u001b[39m(\u001b[32m28\u001b[39m, \u001b[32m\"user-RFWw1\"\u001b[39m, \u001b[32m308\u001b[39m),\n",
       "  \u001b[33mUsage\u001b[39m(\u001b[32m29\u001b[39m, \u001b[32m\"user-GB82J\"\u001b[39m, \u001b[32m342\u001b[39m),\n",
       "  \u001b[33mUsage\u001b[39m(\u001b[32m30\u001b[39m, \u001b[32m\"user-aRIBa\"\u001b[39m, \u001b[32m785\u001b[39m),\n",
       "  \u001b[33mUsage\u001b[39m(\u001b[32m31\u001b[39m, \u001b[32m\"user-kVMP0\"\u001b[39m, \u001b[32m293\u001b[39m),\n",
       "  \u001b[33mUsage\u001b[39m(\u001b[32m32\u001b[39m, \u001b[32m\"user-yOUH1\"\u001b[39m, \u001b[32m943\u001b[39m),\n",
       "  \u001b[33mUsage\u001b[39m(\u001b[32m33\u001b[39m, \u001b[32m\"user-Ti9C0\"\u001b[39m, \u001b[32m188\u001b[39m),\n",
       "  \u001b[33mUsage\u001b[39m(\u001b[32m34\u001b[39m, \u001b[32m\"user-tte7Q\"\u001b[39m, \u001b[32m780\u001b[39m),\n",
       "  \u001b[33mUsage\u001b[39m(\u001b[32m35\u001b[39m, \u001b[32m\"user-mLG6c\"\u001b[39m, \u001b[32m305\u001b[39m),\n",
       "  \u001b[33mUsage\u001b[39m(\u001b[32m36\u001b[39m, \u001b[32m\"user-1JPlV\"\u001b[39m, \u001b[32m181\u001b[39m),\n",
       "  \u001b[33mUsage\u001b[39m(\u001b[32m37\u001b[39m, \u001b[32m\"user-5PXjy\"\u001b[39m, \u001b[32m493\u001b[39m),\n",
       "..."
      ]
     },
     "execution_count": 21,
     "metadata": {},
     "output_type": "execute_result"
    }
   ],
   "source": [
    "// In Scala\n",
    "import scala.util.Random._\n",
    "import org.apache.spark.sql.functions._\n",
    "\n",
    "// Our case class for the Dataset\n",
    "case class Usage(uid:Int, uname:String, usage: Int)\n",
    "val r = new scala.util.Random(42)\n",
    "\n",
    "// Create 1000 instances of scala Usage class \n",
    "// This generates data on the fly\n",
    "val data = for (i <- 0 to 1000) \n",
    "  yield (Usage(i, \"user-\" + r.alphanumeric.take(5).mkString(\"\"),\n",
    "  r.nextInt(1000)))\n"
   ]
  },
  {
   "cell_type": "code",
   "execution_count": 22,
   "metadata": {},
   "outputs": [
    {
     "name": "stdout",
     "output_type": "stream",
     "text": [
      "+---+----------+-----+\n",
      "|uid|     uname|usage|\n",
      "+---+----------+-----+\n",
      "|  0|user-Gpi2C|  525|\n",
      "|  1|user-DgXDi|  502|\n",
      "|  2|user-M66yO|  170|\n",
      "+---+----------+-----+\n",
      "only showing top 3 rows\n",
      "\n"
     ]
    },
    {
     "data": {
      "text/plain": [
       "\u001b[36mds\u001b[39m: \u001b[32mDataset\u001b[39m[\u001b[32mUsage\u001b[39m] = [uid: int, uname: string ... 1 more field]"
      ]
     },
     "execution_count": 22,
     "metadata": {},
     "output_type": "execute_result"
    }
   ],
   "source": [
    "// Create a Dataset of Usage typed data\n",
    "val ds = spark.createDataset(data)\n",
    "ds.show(3)\n"
   ]
  },
  {
   "cell_type": "code",
   "execution_count": 23,
   "metadata": {},
   "outputs": [
    {
     "name": "stdout",
     "output_type": "stream",
     "text": [
      "+---+----------+-----+\n",
      "|uid|     uname|usage|\n",
      "+---+----------+-----+\n",
      "|605|user-NL6c4|  999|\n",
      "|113|user-nnAXr|  999|\n",
      "|561|user-5n2xY|  999|\n",
      "|634|user-L0wci|  999|\n",
      "|805|user-LX27o|  996|\n",
      "|345|user-QKrVb|  996|\n",
      "| 26|user-CJY3C|  996|\n",
      "| 49|user-xPBrB|  993|\n",
      "|681|user-QwV36|  992|\n",
      "|626|user-63wkI|  992|\n",
      "+---+----------+-----+\n",
      "only showing top 10 rows\n",
      "\n"
     ]
    }
   ],
   "source": [
    "ds.filter(d => d.usage > 100).orderBy(desc(\"usage\")).show(10)"
   ]
  },
  {
   "cell_type": "code",
   "execution_count": 24,
   "metadata": {},
   "outputs": [
    {
     "name": "stdout",
     "output_type": "stream",
     "text": [
      "+------+\n",
      "|value |\n",
      "+------+\n",
      "|262.5 |\n",
      "|251.0 |\n",
      "|85.0  |\n",
      "|136.95|\n",
      "|123.0 |\n",
      "+------+\n",
      "only showing top 5 rows\n",
      "\n"
     ]
    }
   ],
   "source": [
    "// In Scala\n",
    "// Use an if-then-else lambda expression and compute a value\n",
    "ds.map(u => {if (u.usage > 750) u.usage * .15 else u.usage * .50 })\n",
    "  .show(5, false)"
   ]
  },
  {
   "cell_type": "code",
   "execution_count": 25,
   "metadata": {},
   "outputs": [
    {
     "name": "stdout",
     "output_type": "stream",
     "text": [
      "+---+----------+-----+------+\n",
      "|uid|     uname|usage|  cost|\n",
      "+---+----------+-----+------+\n",
      "|  0|user-Gpi2C|  525| 262.5|\n",
      "|  1|user-DgXDi|  502| 251.0|\n",
      "|  2|user-M66yO|  170|  85.0|\n",
      "|  3|user-xTOn6|  913|136.95|\n",
      "|  4|user-3xGSz|  246| 123.0|\n",
      "+---+----------+-----+------+\n",
      "only showing top 5 rows\n",
      "\n"
     ]
    },
    {
     "data": {
      "text/plain": [
       "defined \u001b[32mclass\u001b[39m \u001b[36mUsageCost\u001b[39m\n",
       "defined \u001b[32mfunction\u001b[39m \u001b[36mcomputeUserCostUsage\u001b[39m"
      ]
     },
     "execution_count": 25,
     "metadata": {},
     "output_type": "execute_result"
    }
   ],
   "source": [
    "\n",
    "// Create a new case class with an additional field, cost\n",
    "case class UsageCost(uid: Int, uname:String, usage: Int, cost: Double)\n",
    "\n",
    "// Compute the usage cost with Usage as a parameter\n",
    "// Return a new object, UsageCost\n",
    "def computeUserCostUsage(u: Usage): UsageCost = {\n",
    "  val v = if (u.usage > 750) u.usage * 0.15 else u.usage * 0.50\n",
    "    UsageCost(u.uid, u.uname, u.usage, v)\n",
    "}\n",
    "\n",
    "// Use map() on our original Dataset\n",
    "ds.map(u => {computeUserCostUsage(u)}).show(5)"
   ]
  }
 ],
 "metadata": {
  "kernelspec": {
   "display_name": "Scala 2.12",
   "language": "scala",
   "name": "scala212"
  },
  "language_info": {
   "codemirror_mode": "text/x-scala",
   "file_extension": ".sc",
   "mimetype": "text/x-scala",
   "name": "scala",
   "nbconvert_exporter": "script",
   "version": "2.12.12"
  }
 },
 "nbformat": 4,
 "nbformat_minor": 4
}
